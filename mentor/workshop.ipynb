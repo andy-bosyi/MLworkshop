{
 "cells": [
  {
   "cell_type": "code",
   "execution_count": 5,
   "metadata": {},
   "outputs": [],
   "source": [
    "import numpy as np\n",
    "import cv2\n",
    "import matplotlib.pyplot as plt\n",
    "import os\n",
    "import glob\n",
    "import tensorflow as tf"
   ]
  },
  {
   "cell_type": "code",
   "execution_count": 3,
   "metadata": {},
   "outputs": [
    {
     "data": {
      "text/plain": [
       "['m', 'i', 'f', '7', 'p']"
      ]
     },
     "execution_count": 3,
     "metadata": {},
     "output_type": "execute_result"
    }
   ],
   "source": [
    "features = 20 * 20\n",
    "labels = ['m', 'i', 'f', '7', 'p']\n",
    "categories = len(labels)\n",
    "labels"
   ]
  },
  {
   "cell_type": "code",
   "execution_count": null,
   "metadata": {},
   "outputs": [],
   "source": [
    "def load_images():\n",
    "    x = np.zeros((0, features))\n",
    "    y = np.zeros((0), dtype=int)\n",
    "    yoh = np.zeros((0, categories))\n",
    "    i = 0\n",
    "    for i in range(len(labels)):\n",
    "        label = labels[i]\n",
    "        print('Loading letter:', label)\n",
    "        for filename in glob.glob(os.path.join('../data/' + label, '*.png')):\n",
    "            img = cv2.imread(filename, cv2.IMREAD_GRAYSCALE)\n",
    "            x = np.append(x, img.reshape(1, features), axis=0)\n",
    "            y = np.append(y, [i], axis=0)\n",
    "            yoh = np.append(yoh, np.zeros((1, categories)), axis=0)\n",
    "            yoh[-1, i] = 1  \n",
    "    return x, y, yoh"
   ]
  },
  {
   "cell_type": "code",
   "execution_count": 1,
   "metadata": {},
   "outputs": [],
   "source": [
    "#x, y, yoh = load_images ()"
   ]
  },
  {
   "cell_type": "code",
   "execution_count": 2,
   "metadata": {},
   "outputs": [],
   "source": [
    "#x.shape, y.shape, yoh.shape\n"
   ]
  },
  {
   "cell_type": "code",
   "execution_count": 3,
   "metadata": {},
   "outputs": [],
   "source": [
    "#x[12]"
   ]
  },
  {
   "cell_type": "code",
   "execution_count": 4,
   "metadata": {
    "scrolled": true
   },
   "outputs": [],
   "source": [
    "#plt.imshow(x[12].reshape(20, 20))"
   ]
  },
  {
   "cell_type": "code",
   "execution_count": 5,
   "metadata": {},
   "outputs": [],
   "source": [
    "#labels[y[12]]"
   ]
  },
  {
   "cell_type": "code",
   "execution_count": 6,
   "metadata": {},
   "outputs": [],
   "source": [
    "#yoh[12]"
   ]
  },
  {
   "cell_type": "code",
   "execution_count": 7,
   "metadata": {},
   "outputs": [],
   "source": [
    "#yoh"
   ]
  },
  {
   "cell_type": "code",
   "execution_count": 23,
   "metadata": {},
   "outputs": [],
   "source": [
    "# state = np.random.get_state()\n",
    "# np.random.shuffle(x)\n",
    "# np.random.set_state(state)\n",
    "# np.random.shuffle(y)\n",
    "# np.random.set_state(state)\n",
    "# np.random.shuffle(yoh)"
   ]
  },
  {
   "cell_type": "code",
   "execution_count": 8,
   "metadata": {},
   "outputs": [],
   "source": [
    "#yoh"
   ]
  },
  {
   "cell_type": "code",
   "execution_count": 25,
   "metadata": {},
   "outputs": [],
   "source": [
    "# samples = len(x)\n",
    "# x_train = x[:-samples // 5]\n",
    "# x_test = x[-samples // 5:]\n",
    "# y_train = y[:-samples // 5]\n",
    "# yoh_train = yoh[:-samples // 5]\n",
    "# y_test = y[-samples // 5:]\n",
    "# yoh_test = yoh[-samples // 5:]"
   ]
  },
  {
   "cell_type": "code",
   "execution_count": 26,
   "metadata": {},
   "outputs": [],
   "source": [
    "# m_x = tf.placeholder(tf.float32, [None, features])\n",
    "# m_y_ = tf.placeholder(tf.int32, [None])\n",
    "\n",
    "# m_W = tf.Variable(tf.zeros([features, categories]))\n",
    "# m_b = tf.Variable(tf.zeros([categories]))\n",
    "# m_y = tf.matmul(m_x, m_W) + m_b\n",
    "# m_y_sm = tf.nn.softmax(m_y)\n",
    "\n",
    "# m_loss = tf.reduce_mean(tf.nn.sparse_softmax_cross_entropy_with_logits(labels=m_y_, logits=m_y))\n",
    "# m_train = tf.train.AdamOptimizer(0.1).minimize(m_loss)\n",
    "\n",
    "# _, m_acc = tf.metrics.accuracy(m_y_, tf.argmax(m_y, 1))\n",
    "# sess = tf.InteractiveSession()\n",
    "# tf.global_variables_initializer().run()\n",
    "# tf.local_variables_initializer().run()"
   ]
  },
  {
   "cell_type": "code",
   "execution_count": 9,
   "metadata": {},
   "outputs": [],
   "source": [
    "# for epoch in range(1000):\n",
    "#     sess.run(m_train, feed_dict={m_x: x_train, m_y_: y_train})\n",
    "#     accuracy_train = sess.run(m_acc, feed_dict={m_x: x_train, m_y_: y_train})\n",
    "#     accuracy_test = sess.run(m_acc, feed_dict={m_x: x_test, m_y_: y_test})\n",
    "#     print('Epoch:', epoch, 'Training accuracy:', accuracy_train, 'Testing accuracy:', accuracy_test, end='                                                                   \\r')\n"
   ]
  },
  {
   "cell_type": "code",
   "execution_count": 29,
   "metadata": {},
   "outputs": [],
   "source": [
    "# yoh_pred = sess.run(m_y, feed_dict={m_x: x_test})\n",
    "# y_pred = np.argmax(yoh_pred, axis=1)"
   ]
  },
  {
   "cell_type": "code",
   "execution_count": 10,
   "metadata": {},
   "outputs": [],
   "source": [
    "# y_test[12], labels[y_test[12]], yoh_test[12]"
   ]
  },
  {
   "cell_type": "code",
   "execution_count": 11,
   "metadata": {},
   "outputs": [],
   "source": [
    "# y_pred[12], labels[y_pred[12]], yoh_pred[12]"
   ]
  },
  {
   "cell_type": "code",
   "execution_count": 32,
   "metadata": {},
   "outputs": [],
   "source": [
    "# W =sess.run(m_W)\n",
    "# b = sess.run(m_b)"
   ]
  },
  {
   "cell_type": "code",
   "execution_count": 13,
   "metadata": {},
   "outputs": [],
   "source": [
    "# W,b"
   ]
  },
  {
   "cell_type": "code",
   "execution_count": 12,
   "metadata": {},
   "outputs": [],
   "source": [
    "#W.shape"
   ]
  },
  {
   "cell_type": "code",
   "execution_count": 14,
   "metadata": {},
   "outputs": [],
   "source": [
    "#plt.imshow(W[:, 3].reshape(20, 20))"
   ]
  },
  {
   "cell_type": "code",
   "execution_count": null,
   "metadata": {},
   "outputs": [],
   "source": []
  },
  {
   "cell_type": "code",
   "execution_count": null,
   "metadata": {},
   "outputs": [],
   "source": []
  },
  {
   "cell_type": "code",
   "execution_count": null,
   "metadata": {},
   "outputs": [],
   "source": []
  },
  {
   "cell_type": "code",
   "execution_count": null,
   "metadata": {},
   "outputs": [],
   "source": []
  },
  {
   "cell_type": "code",
   "execution_count": null,
   "metadata": {},
   "outputs": [],
   "source": []
  }
 ],
 "metadata": {
  "kernelspec": {
   "display_name": "Python 3",
   "language": "python",
   "name": "python3"
  },
  "latex_envs": {
   "LaTeX_envs_menu_present": true,
   "autoclose": false,
   "autocomplete": true,
   "bibliofile": "biblio.bib",
   "cite_by": "apalike",
   "current_citInitial": 1,
   "eqLabelWithNumbers": true,
   "eqNumInitial": 1,
   "hotkeys": {
    "equation": "Ctrl-E",
    "itemize": "Ctrl-I"
   },
   "labels_anchors": false,
   "latex_user_defs": false,
   "report_style_numbering": false,
   "user_envs_cfg": false
  },
  "varInspector": {
   "cols": {
    "lenName": 16,
    "lenType": 16,
    "lenVar": 40
   },
   "kernels_config": {
    "python": {
     "delete_cmd_postfix": "",
     "delete_cmd_prefix": "del ",
     "library": "var_list.py",
     "varRefreshCmd": "print(var_dic_list())"
    },
    "r": {
     "delete_cmd_postfix": ") ",
     "delete_cmd_prefix": "rm(",
     "library": "var_list.r",
     "varRefreshCmd": "cat(var_dic_list()) "
    }
   },
   "types_to_exclude": [
    "module",
    "function",
    "builtin_function_or_method",
    "instance",
    "_Feature"
   ],
   "window_display": false
  }
 },
 "nbformat": 4,
 "nbformat_minor": 2
}
